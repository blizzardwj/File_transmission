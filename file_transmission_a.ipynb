{
 "cells": [
  {
   "cell_type": "markdown",
   "metadata": {},
   "source": [
    "## File transmit through a relay server"
   ]
  },
  {
   "cell_type": "code",
   "execution_count": 1,
   "metadata": {},
   "outputs": [
    {
     "data": {
      "application/vnd.jupyter.widget-view+json": {
       "model_id": "02f1d9bc1b22461a8027cadf5e20cae9",
       "version_major": 2,
       "version_minor": 0
      },
      "text/plain": [
       "Text(value='', description='Source:', layout=Layout(width='80%'), placeholder='请输入文件或文件夹路径')"
      ]
     },
     "metadata": {},
     "output_type": "display_data"
    },
    {
     "data": {
      "application/vnd.jupyter.widget-view+json": {
       "model_id": "0da7e48ef8314830be19fb6ee84ca4d7",
       "version_major": 2,
       "version_minor": 0
      },
      "text/plain": [
       "Text(value='45.145.74.109', description='Jump host:', layout=Layout(width='50%'), placeholder='跳板机IP')"
      ]
     },
     "metadata": {},
     "output_type": "display_data"
    },
    {
     "data": {
      "application/vnd.jupyter.widget-view+json": {
       "model_id": "bc76e3a8085c4f4d8097d89a8d32798e",
       "version_major": 2,
       "version_minor": 0
      },
      "text/plain": [
       "IntText(value=5222, description='SSH Port:', layout=Layout(width='50%'))"
      ]
     },
     "metadata": {},
     "output_type": "display_data"
    },
    {
     "data": {
      "application/vnd.jupyter.widget-view+json": {
       "model_id": "0efc3b618c65402f906c1b9c461ff87c",
       "version_major": 2,
       "version_minor": 0
      },
      "text/plain": [
       "Button(button_style='success', description='开始传输', style=ButtonStyle())"
      ]
     },
     "metadata": {},
     "output_type": "display_data"
    },
    {
     "data": {
      "application/vnd.jupyter.widget-view+json": {
       "model_id": "44f55362736546e7b13a9b0a66371278",
       "version_major": 2,
       "version_minor": 0
      },
      "text/plain": [
       "Output()"
      ]
     },
     "metadata": {},
     "output_type": "display_data"
    }
   ],
   "source": [
    "import ipywidgets as widgets\n",
    "from IPython.display import display\n",
    "import subprocess\n",
    "import os\n",
    "\n",
    "def run_transfer(b):\n",
    "    source_path = source_path_input.value.strip()\n",
    "    jump_host = jump_host_input.value.strip()\n",
    "    jump_port = jump_port_input.value\n",
    "    # 判断传输的是文件还是文件夹，选择不同的命令\n",
    "    if os.path.isdir(source_path):\n",
    "        cmd = f\"tar cf - {source_path} | ssh -p {jump_port} root@{jump_host} 'nc localhost 3456'\"\n",
    "    else:\n",
    "        cmd = f\"cat {source_path} | ssh -p {jump_port} root@{jump_host} 'nc localhost 3456'\"\n",
    "    \n",
    "    output_area.clear_output()\n",
    "    with output_area:\n",
    "        print(\"Executing command:\")\n",
    "        print(cmd)\n",
    "        try:\n",
    "            result = subprocess.run(cmd, shell=True, check=True, stdout=subprocess.PIPE, stderr=subprocess.PIPE, text=True)\n",
    "            print(\"Command finished successfully.\")\n",
    "            if result.stdout:\n",
    "                print(\"Output:\", result.stdout)\n",
    "        except subprocess.CalledProcessError as e:\n",
    "            print(\"Command failed with error:\")\n",
    "            print(e.stderr)\n",
    "\n",
    "# 定义UI控件\n",
    "source_path_input = widgets.Text(\n",
    "    value='',\n",
    "    placeholder='请输入文件或文件夹路径',\n",
    "    description='Source:',\n",
    "    layout=widgets.Layout(width='80%')\n",
    ")\n",
    "\n",
    "jump_host_input = widgets.Text(\n",
    "    value='45.145.74.109',\n",
    "    placeholder='跳板机IP',\n",
    "    description='Jump host:',\n",
    "    layout=widgets.Layout(width='50%')\n",
    ")\n",
    "\n",
    "jump_port_input = widgets.IntText(\n",
    "    value=5222,\n",
    "    description='SSH Port:',\n",
    "    layout=widgets.Layout(width='50%')\n",
    ")\n",
    "\n",
    "transfer_button = widgets.Button(\n",
    "    description='开始传输',\n",
    "    button_style='success'\n",
    ")\n",
    "\n",
    "transfer_button.on_click(run_transfer)\n",
    "\n",
    "output_area = widgets.Output()\n",
    "\n",
    "# 显示所有控件\n",
    "display(source_path_input, jump_host_input, jump_port_input, transfer_button, output_area)\n"
   ]
  },
  {
   "cell_type": "code",
   "execution_count": 2,
   "metadata": {},
   "outputs": [
    {
     "data": {
      "application/vnd.jupyter.widget-view+json": {
       "model_id": "c08b40c144104366ac4bcd74f168a92d",
       "version_major": 2,
       "version_minor": 0
      },
      "text/plain": [
       "VBox(children=(RadioButtons(description='模式:', options=('发送端', '接收端'), value='发送端'), VBox(children=(Text(value…"
      ]
     },
     "metadata": {},
     "output_type": "display_data"
    }
   ],
   "source": [
    "import ipywidgets as widgets\n",
    "from IPython.display import display, clear_output\n",
    "import os\n",
    "import subprocess\n",
    "from threading import Thread\n",
    "import time\n",
    "\n",
    "# 公共参数组件\n",
    "ssh_params = widgets.VBox([\n",
    "    widgets.Text(description=\"跳板机地址:\", value='45.145.74.109'),\n",
    "    widgets.IntText(description=\"SSH端口:\", value=5222),\n",
    "    widgets.Text(description=\"用户名:\", value='root'),\n",
    "    widgets.IntText(description=\"隧道端口:\", value=3456)\n",
    "])\n",
    "\n",
    "# 模式选择\n",
    "mode_selector = widgets.RadioButtons(\n",
    "    options=['发送端', '接收端'],\n",
    "    description='模式:',\n",
    "    disabled=False\n",
    ")\n",
    "\n",
    "# 文件选择组件\n",
    "file_selector = widgets.FileUpload(description=\"选择文件\", multiple=True)\n",
    "folder_selector = widgets.Text(description=\"文件夹路径:\")\n",
    "\n",
    "# 接收端路径\n",
    "receiver_path = widgets.Text(description=\"保存路径:\", value='/path/to/received_file')\n",
    "\n",
    "# 执行按钮\n",
    "run_btn = widgets.Button(description=\"执行操作\")\n",
    "output = widgets.Output()\n",
    "\n",
    "def on_run_clicked(b):\n",
    "    with output:\n",
    "        clear_output()\n",
    "        params = {\n",
    "            'ssh_host': ssh_params.children[0].value,\n",
    "            'ssh_port': ssh_params.children[1].value,\n",
    "            'user': ssh_params.children[2].value,\n",
    "            'tunnel_port': ssh_params.children[3].value,\n",
    "            'mode': mode_selector.value\n",
    "        }\n",
    "        \n",
    "        if params['mode'] == '发送端':\n",
    "            if len(file_selector.value) > 0:\n",
    "                # 处理上传文件\n",
    "                for name, content in file_selector.value.items():\n",
    "                    with open(name, 'wb') as f:\n",
    "                        f.write(content['content'])\n",
    "                src_path = ' '.join(file_selector.value.keys())\n",
    "            else:\n",
    "                src_path = folder_selector.value\n",
    "                \n",
    "            cmd = f\"tar cf - {src_path} | ssh -p {params['ssh_port']} {params['user']}@{params['ssh_host']} 'nc localhost {params['tunnel_port']}'\"\n",
    "            \n",
    "        else:\n",
    "            cmd = f\"nc -l {params['tunnel_port']} | tar xf -\"\n",
    "            if receiver_path.value.strip():\n",
    "                cmd = f\"nc -l {params['tunnel_port']} > {receiver_path.value}\"\n",
    "            \n",
    "            # 在后台启动隧道\n",
    "            tunnel_cmd = f\"ssh -N -R {params['tunnel_port']}:localhost:{params['tunnel_port']} -p {params['ssh_port']} {params['user']}@{params['ssh_host']}\"\n",
    "            Thread(target=lambda: subprocess.run(tunnel_cmd, shell=True)).start()\n",
    "            time.sleep(1)  # 等待隧道建立\n",
    "\n",
    "        print(\"执行命令:\", cmd)\n",
    "        result = subprocess.run(cmd, shell=True, capture_output=True, text=True)\n",
    "        print(result.stdout)\n",
    "        if result.stderr:\n",
    "            print(\"错误信息:\", result.stderr)\n",
    "\n",
    "run_btn.on_click(on_run_clicked)\n",
    "\n",
    "# 动态显示组件\n",
    "def update_ui(change):\n",
    "    if change['new'] == '发送端':\n",
    "        special_params.children = [file_selector, folder_selector]\n",
    "    else:\n",
    "        special_params.children = [receiver_path]\n",
    "\n",
    "mode_selector.observe(update_ui, names='value')\n",
    "\n",
    "special_params = widgets.VBox()\n",
    "ui = widgets.VBox([\n",
    "    mode_selector,\n",
    "    ssh_params,\n",
    "    special_params,\n",
    "    run_btn,\n",
    "    output\n",
    "])\n",
    "\n",
    "# 初始UI状态\n",
    "update_ui({'new': mode_selector.value})\n",
    "display(ui)"
   ]
  }
 ],
 "metadata": {
  "kernelspec": {
   "display_name": "aria_exp",
   "language": "python",
   "name": "python3"
  },
  "language_info": {
   "codemirror_mode": {
    "name": "ipython",
    "version": 3
   },
   "file_extension": ".py",
   "mimetype": "text/x-python",
   "name": "python",
   "nbconvert_exporter": "python",
   "pygments_lexer": "ipython3",
   "version": "3.11.11"
  }
 },
 "nbformat": 4,
 "nbformat_minor": 2
}
